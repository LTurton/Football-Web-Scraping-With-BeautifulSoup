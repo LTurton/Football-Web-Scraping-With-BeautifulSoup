{
 "cells": [
  {
   "cell_type": "code",
   "execution_count": null,
   "metadata": {},
   "outputs": [],
   "source": [
    "#Local Includes:\n",
    "from DateHelpers import DateHelpers #Import Date selection functions.\n",
    "from GamesAndScoresScraper import GamesAndScoresScraper\n",
    "from leagues import LeaguesHandler\n",
    "\n",
    "\n",
    "#main program\n",
    "chosen_date = DateHelpers.get_yesterdays_date()\n",
    "print(chosen_date)\n",
    "scraped_data = GamesAndScoresScraper.scrape_games_and_leagues(chosen_date)\n",
    "my_league = 'The FA Cup'\n",
    "cleaned_data = GamesAndScoresScraper.clean_data(scraped_data, my_league)\n",
    "GamesAndScoresScraper.print_data(cleaned_data)"
   ]
  }
 ],
 "metadata": {
  "kernelspec": {
   "display_name": "Python 3",
   "language": "python",
   "name": "python3"
  },
  "language_info": {
   "codemirror_mode": {
    "name": "ipython",
    "version": 3
   },
   "file_extension": ".py",
   "mimetype": "text/x-python",
   "name": "python",
   "nbconvert_exporter": "python",
   "pygments_lexer": "ipython3",
   "version": "3.11.8"
  }
 },
 "nbformat": 4,
 "nbformat_minor": 2
}
